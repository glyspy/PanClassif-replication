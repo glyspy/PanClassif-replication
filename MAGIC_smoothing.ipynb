{
 "cells": [
  {
   "cell_type": "code",
   "execution_count": null,
   "metadata": {},
   "outputs": [],
   "source": [
    "#pip install magic-impute umap-learn scanpy"
   ]
  },
  {
   "cell_type": "code",
   "execution_count": 6,
   "metadata": {},
   "outputs": [],
   "source": [
    "import pandas as pd\n",
    "import numpy as np\n",
    "import scanpy as sc\n",
    "from magic import MAGIC\n",
    "import umap\n",
    "import os\n",
    "import matplotlib.pyplot as plt\n",
    "import seaborn as sns"
   ]
  },
  {
   "cell_type": "code",
   "execution_count": 7,
   "metadata": {},
   "outputs": [],
   "source": [
    "# FOR COMMON DATA\n",
    "homepath_common = './common'\n",
    "cancerpath_common = './common/cancer'\n",
    "normalpath_common = './common/normal'\n",
    "\n",
    "smoothed_cancer_common = './common/smoothed_cancer_magic'\n",
    "smoothed_normal_common = './common/smoothed_normal_magic'"
   ]
  },
  {
   "cell_type": "code",
   "execution_count": 11,
   "metadata": {},
   "outputs": [],
   "source": [
    "# FOR RARE DATA\n",
    "homepath_rare = './rare'\n",
    "cancerpath_rare = './rare/cancer'\n",
    "normalpath_rare = './rare/normal'\n",
    "\n",
    "smoothed_cancer_rare = './rare/smoothed_cancer_magic'\n",
    "smoothed_normal_rare = './rare/smoothed_normal_magic'"
   ]
  },
  {
   "cell_type": "code",
   "execution_count": 8,
   "metadata": {},
   "outputs": [],
   "source": [
    "def process_files(input_dir, output_dir, data_type):\n",
    "    # Loop over each file in the input directory\n",
    "    for filename in os.listdir(input_dir):\n",
    "        if filename.endswith('.gz'):  # or any other file extension you expect\n",
    "            file_path = os.path.join(input_dir, filename)\n",
    "            \n",
    "            # Load the data\n",
    "            data = pd.read_csv(file_path, compression='gzip', index_col=0)\n",
    "\n",
    "            # Check if the data is read correctly and is numeric\n",
    "            print(f\"Processing {data_type} data: {filename}...\")\n",
    "            #print(f\"{data_type} data types after loading:\")\n",
    "            #print(data.dtypes)\n",
    "            \n",
    "            # Convert the DataFrame to an AnnData object\n",
    "            adata = sc.AnnData(data)\n",
    "            \n",
    "            # Step 3: MAGIC Smoothing\n",
    "            magic_op = MAGIC()\n",
    "            adata_magic = magic_op.fit_transform(adata.X)\n",
    "            \n",
    "            # Update the AnnData object with the smoothed data\n",
    "            adata.obsm['X_magic'] = adata_magic\n",
    "            \n",
    "            # Create a DataFrame from the smoothed data\n",
    "            smoothed_df = pd.DataFrame(adata_magic, index=data.index, columns=data.columns)\n",
    "            \n",
    "            # Verify final smoothed data shape and types\n",
    "            print(\"Final smoothed data shape:\", smoothed_df.shape)\n",
    "            #print(\"Final smoothed data types:\")\n",
    "            #print(smoothed_df.dtypes)\n",
    "            \n",
    "            # Generate the output file path\n",
    "            output_file_path = os.path.join(output_dir, f\"{os.path.splitext(filename)[0]}_smoothed.txt.bz2\")\n",
    "            \n",
    "            # Step 7: Save the final file\n",
    "            smoothed_df.to_csv(output_file_path, sep='\\t', header=False, index=False, compression='bz2')\n",
    "\n",
    "            # Generate the output file path\n",
    "            output_file_path = os.path.join(output_dir, f\"{os.path.splitext(filename)[0]}_smoothed.h5ad\")\n",
    "            \n",
    "            # Step 8: Save the AnnData object in .h5ad format with gzip compression\n",
    "            adata.write_h5ad(output_file_path, compression='gzip')\n",
    "\n",
    "            print(f\"Saved smoothed data to {output_file_path}\\n\")"
   ]
  },
  {
   "cell_type": "code",
   "execution_count": 12,
   "metadata": {},
   "outputs": [
    {
     "name": "stdout",
     "output_type": "stream",
     "text": [
      "Processing cancer data: SARC.csv.gz...\n",
      "Calculating MAGIC...\n",
      "  Running MAGIC on 20501 cells and 265 genes.\n",
      "  Calculating graph and diffusion operator...\n",
      "    Calculating PCA...\n",
      "    Calculated PCA in 1.79 seconds.\n",
      "    Calculating KNN search...\n",
      "    Calculated KNN search in 89.75 seconds.\n",
      "    Calculating affinities...\n"
     ]
    },
    {
     "name": "stderr",
     "output_type": "stream",
     "text": [
      "/home/marintina/anaconda3/lib/python3.8/site-packages/graphtools/graphs.py:290: RuntimeWarning: Detected zero distance between 2157 pairs of samples. Consider removing duplicates to avoid errors in downstream processing.\n",
      "  warnings.warn(\n"
     ]
    },
    {
     "name": "stdout",
     "output_type": "stream",
     "text": [
      "    Calculated affinities in 97.92 seconds.\n",
      "  Calculated graph and diffusion operator in 189.51 seconds.\n",
      "  Calculating imputation...\n"
     ]
    },
    {
     "name": "stderr",
     "output_type": "stream",
     "text": [
      "/home/marintina/anaconda3/lib/python3.8/site-packages/graphtools/base.py:554: RuntimeWarning: K should have a non-zero diagonal\n",
      "  warnings.warn(\"K should have a non-zero diagonal\", RuntimeWarning)\n"
     ]
    },
    {
     "name": "stdout",
     "output_type": "stream",
     "text": [
      "  Calculated imputation in 0.75 seconds.\n",
      "Calculated MAGIC in 190.26 seconds.\n",
      "Final smoothed data shape: (20501, 265)\n",
      "Saved smoothed data to /home/marintina/Desktop/Μεταπτυχιακό/2nd semester/ML in Computational Biology/MLCB_project/dataset/grouped data/rare/smoothed_cancer_magic/SARC.csv_smoothed.h5ad\n",
      "\n",
      "Processing cancer data: THYM.csv.gz...\n",
      "Calculating MAGIC...\n",
      "  Running MAGIC on 20501 cells and 122 genes.\n",
      "  Calculating graph and diffusion operator...\n",
      "    Calculating PCA...\n",
      "    Calculated PCA in 1.01 seconds.\n",
      "    Calculating KNN search...\n",
      "    Calculated KNN search in 79.34 seconds.\n",
      "    Calculating affinities...\n"
     ]
    },
    {
     "name": "stderr",
     "output_type": "stream",
     "text": [
      "/home/marintina/anaconda3/lib/python3.8/site-packages/graphtools/graphs.py:290: RuntimeWarning: Detected zero distance between 3842 pairs of samples. Consider removing duplicates to avoid errors in downstream processing.\n",
      "  warnings.warn(\n"
     ]
    },
    {
     "name": "stdout",
     "output_type": "stream",
     "text": [
      "    Calculated affinities in 78.99 seconds.\n",
      "  Calculated graph and diffusion operator in 159.39 seconds.\n",
      "  Calculating imputation...\n"
     ]
    },
    {
     "name": "stderr",
     "output_type": "stream",
     "text": [
      "/home/marintina/anaconda3/lib/python3.8/site-packages/graphtools/base.py:554: RuntimeWarning: K should have a non-zero diagonal\n",
      "  warnings.warn(\"K should have a non-zero diagonal\", RuntimeWarning)\n"
     ]
    },
    {
     "name": "stdout",
     "output_type": "stream",
     "text": [
      "  Calculated imputation in 0.43 seconds.\n",
      "Calculated MAGIC in 159.82 seconds.\n",
      "Final smoothed data shape: (20501, 122)\n",
      "Saved smoothed data to /home/marintina/Desktop/Μεταπτυχιακό/2nd semester/ML in Computational Biology/MLCB_project/dataset/grouped data/rare/smoothed_cancer_magic/THYM.csv_smoothed.h5ad\n",
      "\n",
      "Processing cancer data: CHOL.csv.gz...\n",
      "Calculating MAGIC...\n",
      "  Running MAGIC on 20501 cells and 45 genes.\n",
      "  Calculating graph and diffusion operator...\n",
      "    Calculating KNN search...\n",
      "    Calculated KNN search in 38.22 seconds.\n",
      "    Calculating affinities...\n"
     ]
    },
    {
     "name": "stderr",
     "output_type": "stream",
     "text": [
      "/home/marintina/anaconda3/lib/python3.8/site-packages/graphtools/graphs.py:290: RuntimeWarning: Detected zero distance between 7105 pairs of samples. Consider removing duplicates to avoid errors in downstream processing.\n",
      "  warnings.warn(\n"
     ]
    },
    {
     "name": "stdout",
     "output_type": "stream",
     "text": [
      "    Calculated affinities in 40.58 seconds.\n",
      "  Calculated graph and diffusion operator in 78.84 seconds.\n",
      "  Calculating imputation...\n",
      "  Calculated imputation in 0.12 seconds.\n",
      "Calculated MAGIC in 78.97 seconds.\n",
      "Final smoothed data shape: (20501, 45)\n"
     ]
    },
    {
     "name": "stderr",
     "output_type": "stream",
     "text": [
      "/home/marintina/anaconda3/lib/python3.8/site-packages/graphtools/base.py:554: RuntimeWarning: K should have a non-zero diagonal\n",
      "  warnings.warn(\"K should have a non-zero diagonal\", RuntimeWarning)\n"
     ]
    },
    {
     "name": "stdout",
     "output_type": "stream",
     "text": [
      "Saved smoothed data to /home/marintina/Desktop/Μεταπτυχιακό/2nd semester/ML in Computational Biology/MLCB_project/dataset/grouped data/rare/smoothed_cancer_magic/CHOL.csv_smoothed.h5ad\n",
      "\n",
      "Processing cancer data: PCPG.csv.gz...\n",
      "Calculating MAGIC...\n",
      "  Running MAGIC on 20501 cells and 187 genes.\n",
      "  Calculating graph and diffusion operator...\n",
      "    Calculating PCA...\n",
      "    Calculated PCA in 1.16 seconds.\n",
      "    Calculating KNN search...\n",
      "    Calculated KNN search in 78.30 seconds.\n",
      "    Calculating affinities...\n"
     ]
    },
    {
     "name": "stderr",
     "output_type": "stream",
     "text": [
      "/home/marintina/anaconda3/lib/python3.8/site-packages/graphtools/graphs.py:290: RuntimeWarning: Detected zero distance between 3649 pairs of samples. Consider removing duplicates to avoid errors in downstream processing.\n",
      "  warnings.warn(\n"
     ]
    },
    {
     "name": "stdout",
     "output_type": "stream",
     "text": [
      "    Calculated affinities in 82.73 seconds.\n",
      "  Calculated graph and diffusion operator in 162.22 seconds.\n",
      "  Calculating imputation...\n"
     ]
    },
    {
     "name": "stderr",
     "output_type": "stream",
     "text": [
      "/home/marintina/anaconda3/lib/python3.8/site-packages/graphtools/base.py:554: RuntimeWarning: K should have a non-zero diagonal\n",
      "  warnings.warn(\"K should have a non-zero diagonal\", RuntimeWarning)\n"
     ]
    },
    {
     "name": "stdout",
     "output_type": "stream",
     "text": [
      "  Calculated imputation in 0.63 seconds.\n",
      "Calculated MAGIC in 162.86 seconds.\n",
      "Final smoothed data shape: (20501, 187)\n",
      "Saved smoothed data to /home/marintina/Desktop/Μεταπτυχιακό/2nd semester/ML in Computational Biology/MLCB_project/dataset/grouped data/rare/smoothed_cancer_magic/PCPG.csv_smoothed.h5ad\n",
      "\n",
      "Processing cancer data: KICH.csv.gz...\n",
      "Calculating MAGIC...\n",
      "  Running MAGIC on 20501 cells and 91 genes.\n",
      "  Calculating graph and diffusion operator...\n",
      "    Calculating KNN search...\n",
      "    Calculated KNN search in 91.74 seconds.\n",
      "    Calculating affinities...\n"
     ]
    },
    {
     "name": "stderr",
     "output_type": "stream",
     "text": [
      "/home/marintina/anaconda3/lib/python3.8/site-packages/graphtools/graphs.py:290: RuntimeWarning: Detected zero distance between 4752 pairs of samples. Consider removing duplicates to avoid errors in downstream processing.\n",
      "  warnings.warn(\n"
     ]
    },
    {
     "name": "stdout",
     "output_type": "stream",
     "text": [
      "    Calculated affinities in 90.33 seconds.\n",
      "  Calculated graph and diffusion operator in 182.11 seconds.\n",
      "  Calculating imputation...\n"
     ]
    },
    {
     "name": "stderr",
     "output_type": "stream",
     "text": [
      "/home/marintina/anaconda3/lib/python3.8/site-packages/graphtools/base.py:554: RuntimeWarning: K should have a non-zero diagonal\n",
      "  warnings.warn(\"K should have a non-zero diagonal\", RuntimeWarning)\n"
     ]
    },
    {
     "name": "stdout",
     "output_type": "stream",
     "text": [
      "  Calculated imputation in 0.29 seconds.\n",
      "Calculated MAGIC in 182.41 seconds.\n",
      "Final smoothed data shape: (20501, 91)\n",
      "Saved smoothed data to /home/marintina/Desktop/Μεταπτυχιακό/2nd semester/ML in Computational Biology/MLCB_project/dataset/grouped data/rare/smoothed_cancer_magic/KICH.csv_smoothed.h5ad\n",
      "\n"
     ]
    }
   ],
   "source": [
    "# Process cancer data files\n",
    "process_files(cancerpath_rare, smoothed_cancer_rare, \"cancer\")"
   ]
  },
  {
   "cell_type": "code",
   "execution_count": 13,
   "metadata": {},
   "outputs": [
    {
     "name": "stdout",
     "output_type": "stream",
     "text": [
      "Processing normal data: PCPG.norm.csv.gz...\n",
      "Calculating MAGIC...\n",
      "  Running MAGIC on 20501 cells and 3 genes.\n",
      "  Calculating graph and diffusion operator...\n",
      "    Calculating KNN search...\n"
     ]
    },
    {
     "name": "stdout",
     "output_type": "stream",
     "text": [
      "    Calculated KNN search in 0.69 seconds.\n",
      "    Calculating affinities...\n"
     ]
    },
    {
     "name": "stderr",
     "output_type": "stream",
     "text": [
      "/home/marintina/anaconda3/lib/python3.8/site-packages/graphtools/graphs.py:290: RuntimeWarning: Detected zero distance between 29155 pairs of samples. Consider removing duplicates to avoid errors in downstream processing.\n",
      "  warnings.warn(\n"
     ]
    },
    {
     "name": "stdout",
     "output_type": "stream",
     "text": [
      "    Calculated affinities in 0.65 seconds.\n",
      "  Calculated graph and diffusion operator in 1.38 seconds.\n",
      "  Calculating imputation...\n",
      "  Calculated imputation in 0.01 seconds.\n",
      "Calculated MAGIC in 1.40 seconds.\n",
      "Final smoothed data shape: (20501, 3)\n"
     ]
    },
    {
     "name": "stderr",
     "output_type": "stream",
     "text": [
      "/home/marintina/anaconda3/lib/python3.8/site-packages/graphtools/base.py:554: RuntimeWarning: K should have a non-zero diagonal\n",
      "  warnings.warn(\"K should have a non-zero diagonal\", RuntimeWarning)\n"
     ]
    },
    {
     "name": "stdout",
     "output_type": "stream",
     "text": [
      "Saved smoothed data to /home/marintina/Desktop/Μεταπτυχιακό/2nd semester/ML in Computational Biology/MLCB_project/dataset/grouped data/rare/smoothed_normal_magic/PCPG.norm.csv_smoothed.h5ad\n",
      "\n",
      "Processing normal data: THYM.norm.csv.gz...\n",
      "Calculating MAGIC...\n",
      "  Running MAGIC on 20501 cells and 2 genes.\n",
      "  Calculating graph and diffusion operator...\n",
      "    Calculating KNN search...\n",
      "    Calculated KNN search in 0.33 seconds.\n",
      "    Calculating affinities...\n"
     ]
    },
    {
     "name": "stderr",
     "output_type": "stream",
     "text": [
      "/home/marintina/anaconda3/lib/python3.8/site-packages/graphtools/graphs.py:290: RuntimeWarning: Detected zero distance between 26125 pairs of samples. Consider removing duplicates to avoid errors in downstream processing.\n",
      "  warnings.warn(\n"
     ]
    },
    {
     "name": "stdout",
     "output_type": "stream",
     "text": [
      "    Calculated affinities in 0.40 seconds.\n",
      "  Calculated graph and diffusion operator in 0.76 seconds.\n",
      "  Calculating imputation...\n",
      "Calculated MAGIC in 0.77 seconds.\n",
      "Final smoothed data shape: (20501, 2)\n"
     ]
    },
    {
     "name": "stderr",
     "output_type": "stream",
     "text": [
      "/home/marintina/anaconda3/lib/python3.8/site-packages/graphtools/base.py:554: RuntimeWarning: K should have a non-zero diagonal\n",
      "  warnings.warn(\"K should have a non-zero diagonal\", RuntimeWarning)\n"
     ]
    },
    {
     "name": "stdout",
     "output_type": "stream",
     "text": [
      "Saved smoothed data to /home/marintina/Desktop/Μεταπτυχιακό/2nd semester/ML in Computational Biology/MLCB_project/dataset/grouped data/rare/smoothed_normal_magic/THYM.norm.csv_smoothed.h5ad\n",
      "\n",
      "Processing normal data: SARC.norm.csv.gz...\n",
      "Calculating MAGIC...\n",
      "  Running MAGIC on 20501 cells and 2 genes.\n",
      "  Calculating graph and diffusion operator...\n",
      "    Calculating KNN search...\n",
      "    Calculated KNN search in 0.34 seconds.\n",
      "    Calculating affinities...\n"
     ]
    },
    {
     "name": "stderr",
     "output_type": "stream",
     "text": [
      "/home/marintina/anaconda3/lib/python3.8/site-packages/graphtools/graphs.py:290: RuntimeWarning: Detected zero distance between 30046 pairs of samples. Consider removing duplicates to avoid errors in downstream processing.\n",
      "  warnings.warn(\n"
     ]
    },
    {
     "name": "stdout",
     "output_type": "stream",
     "text": [
      "    Calculated affinities in 0.52 seconds.\n",
      "  Calculated graph and diffusion operator in 0.91 seconds.\n",
      "  Calculating imputation...\n",
      "Calculated MAGIC in 0.93 seconds.\n",
      "Final smoothed data shape: (20501, 2)\n"
     ]
    },
    {
     "name": "stderr",
     "output_type": "stream",
     "text": [
      "/home/marintina/anaconda3/lib/python3.8/site-packages/graphtools/base.py:554: RuntimeWarning: K should have a non-zero diagonal\n",
      "  warnings.warn(\"K should have a non-zero diagonal\", RuntimeWarning)\n"
     ]
    },
    {
     "name": "stdout",
     "output_type": "stream",
     "text": [
      "Saved smoothed data to /home/marintina/Desktop/Μεταπτυχιακό/2nd semester/ML in Computational Biology/MLCB_project/dataset/grouped data/rare/smoothed_normal_magic/SARC.norm.csv_smoothed.h5ad\n",
      "\n",
      "Processing normal data: KICH.norm.csv.gz...\n",
      "Calculating MAGIC...\n",
      "  Running MAGIC on 20501 cells and 25 genes.\n",
      "  Calculating graph and diffusion operator...\n",
      "    Calculating KNN search...\n",
      "    Calculated KNN search in 10.38 seconds.\n",
      "    Calculating affinities...\n"
     ]
    },
    {
     "name": "stderr",
     "output_type": "stream",
     "text": [
      "/home/marintina/anaconda3/lib/python3.8/site-packages/graphtools/graphs.py:290: RuntimeWarning: Detected zero distance between 8878 pairs of samples. Consider removing duplicates to avoid errors in downstream processing.\n",
      "  warnings.warn(\n"
     ]
    },
    {
     "name": "stdout",
     "output_type": "stream",
     "text": [
      "    Calculated affinities in 11.00 seconds.\n",
      "  Calculated graph and diffusion operator in 21.42 seconds.\n",
      "  Calculating imputation...\n",
      "  Calculated imputation in 0.05 seconds.\n",
      "Calculated MAGIC in 21.48 seconds.\n",
      "Final smoothed data shape: (20501, 25)\n"
     ]
    },
    {
     "name": "stderr",
     "output_type": "stream",
     "text": [
      "/home/marintina/anaconda3/lib/python3.8/site-packages/graphtools/base.py:554: RuntimeWarning: K should have a non-zero diagonal\n",
      "  warnings.warn(\"K should have a non-zero diagonal\", RuntimeWarning)\n"
     ]
    },
    {
     "name": "stdout",
     "output_type": "stream",
     "text": [
      "Saved smoothed data to /home/marintina/Desktop/Μεταπτυχιακό/2nd semester/ML in Computational Biology/MLCB_project/dataset/grouped data/rare/smoothed_normal_magic/KICH.norm.csv_smoothed.h5ad\n",
      "\n",
      "Processing normal data: CHOL.norm.csv.gz...\n",
      "Calculating MAGIC...\n",
      "  Running MAGIC on 20501 cells and 9 genes.\n",
      "  Calculating graph and diffusion operator...\n",
      "    Calculating KNN search...\n",
      "    Calculated KNN search in 2.95 seconds.\n",
      "    Calculating affinities...\n"
     ]
    },
    {
     "name": "stderr",
     "output_type": "stream",
     "text": [
      "/home/marintina/anaconda3/lib/python3.8/site-packages/graphtools/graphs.py:290: RuntimeWarning: Detected zero distance between 21060 pairs of samples. Consider removing duplicates to avoid errors in downstream processing.\n",
      "  warnings.warn(\n"
     ]
    },
    {
     "name": "stdout",
     "output_type": "stream",
     "text": [
      "    Calculated affinities in 2.84 seconds.\n",
      "  Calculated graph and diffusion operator in 5.83 seconds.\n",
      "  Calculating imputation...\n",
      "  Calculated imputation in 0.02 seconds.\n",
      "Calculated MAGIC in 5.85 seconds.\n",
      "Final smoothed data shape: (20501, 9)\n"
     ]
    },
    {
     "name": "stderr",
     "output_type": "stream",
     "text": [
      "/home/marintina/anaconda3/lib/python3.8/site-packages/graphtools/base.py:554: RuntimeWarning: K should have a non-zero diagonal\n",
      "  warnings.warn(\"K should have a non-zero diagonal\", RuntimeWarning)\n"
     ]
    },
    {
     "name": "stdout",
     "output_type": "stream",
     "text": [
      "Saved smoothed data to /home/marintina/Desktop/Μεταπτυχιακό/2nd semester/ML in Computational Biology/MLCB_project/dataset/grouped data/rare/smoothed_normal_magic/CHOL.norm.csv_smoothed.h5ad\n",
      "\n"
     ]
    }
   ],
   "source": [
    "# Process normal data files\n",
    "process_files(normalpath_rare, smoothed_normal_rare, \"normal\")"
   ]
  },
  {
   "cell_type": "markdown",
   "metadata": {},
   "source": [
    "---------------"
   ]
  },
  {
   "cell_type": "markdown",
   "metadata": {},
   "source": [
    "-----------"
   ]
  },
  {
   "cell_type": "markdown",
   "metadata": {},
   "source": [
    "## UMAP dimensionality reduction"
   ]
  },
  {
   "cell_type": "code",
   "execution_count": null,
   "metadata": {},
   "outputs": [],
   "source": [
    "# Step 4: UMAP Dimensionality Reduction (use UMAP from umap-learn library)\n",
    "reducer = umap.UMAP()\n",
    "embedding = reducer.fit_transform(adata.obsm['X_magic'])\n",
    "adata.obsm['X_umap'] = embedding"
   ]
  },
  {
   "cell_type": "code",
   "execution_count": null,
   "metadata": {},
   "outputs": [],
   "source": [
    "umap_coords = adata.obsm['X_umap']\n",
    "print(\"UMAP coordinates shape:\", umap_coords.shape)"
   ]
  },
  {
   "cell_type": "code",
   "execution_count": null,
   "metadata": {},
   "outputs": [],
   "source": [
    "# Step 7: Visualization\n",
    "# Plot the UMAP results\n",
    "plt.figure(figsize=(10, 8))\n",
    "sns.scatterplot(x=embedding[:, 0], y=embedding[:, 1], s=50)\n",
    "plt.title('UMAP of MAGIC-smoothed data')\n",
    "plt.xlabel('UMAP1')\n",
    "plt.ylabel('UMAP2')\n",
    "plt.show()"
   ]
  },
  {
   "cell_type": "code",
   "execution_count": null,
   "metadata": {},
   "outputs": [],
   "source": [
    "# Step 5: Clustering\n",
    "sc.pp.neighbors(adata, n_neighbors=20, use_rep='X_magic')\n",
    "sc.tl.leiden(adata, resolution=0.5)\n",
    "\n",
    "# Extract UMAP coordinates\n",
    "umap_df = pd.DataFrame(umap_coords, index=adata.obs.index, columns=['UMAP1', 'UMAP2'])\n",
    "\n",
    "# Add clustering information to the DataFrame\n",
    "umap_df['leiden'] = adata.obs['leiden']"
   ]
  },
  {
   "cell_type": "code",
   "execution_count": null,
   "metadata": {},
   "outputs": [],
   "source": [
    "# Step 6: Visualization\n",
    "# Plot the UMAP results with clusters\n",
    "plt.figure(figsize=(10, 8))\n",
    "sns.scatterplot(x=umap_df['UMAP1'], y=umap_df['UMAP2'], hue=umap_df['leiden'], palette='tab10', s=50)\n",
    "plt.title('UMAP of MAGIC-smoothed data with Leiden Clusters')\n",
    "plt.xlabel('UMAP1')\n",
    "plt.ylabel('UMAP2')\n",
    "plt.legend(title='Leiden Cluster')\n",
    "plt.show()"
   ]
  }
 ],
 "metadata": {
  "kernelspec": {
   "display_name": "base",
   "language": "python",
   "name": "python3"
  },
  "language_info": {
   "codemirror_mode": {
    "name": "ipython",
    "version": 3
   },
   "file_extension": ".py",
   "mimetype": "text/x-python",
   "name": "python",
   "nbconvert_exporter": "python",
   "pygments_lexer": "ipython3",
   "version": "3.8.8"
  }
 },
 "nbformat": 4,
 "nbformat_minor": 2
}
